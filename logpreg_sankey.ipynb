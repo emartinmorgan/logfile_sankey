{
  "nbformat": 4,
  "nbformat_minor": 0,
  "metadata": {
    "colab": {
      "name": "logpreg_sankey.ipynb",
      "provenance": [],
      "collapsed_sections": [],
      "include_colab_link": true
    },
    "kernelspec": {
      "name": "python3",
      "display_name": "Python 3"
    },
    "language_info": {
      "name": "python"
    }
  },
  "cells": [
    {
      "cell_type": "markdown",
      "metadata": {
        "id": "view-in-github",
        "colab_type": "text"
      },
      "source": [
        "<a href=\"https://colab.research.google.com/github/emartinmorgan/logfile_sankey/blob/master/logpreg_sankey.ipynb\" target=\"_parent\"><img src=\"https://colab.research.google.com/assets/colab-badge.svg\" alt=\"Open In Colab\"/></a>"
      ]
    },
    {
      "cell_type": "markdown",
      "metadata": {
        "id": "RjCY1x_Md1gH"
      },
      "source": [
        "[Sankey Tutorial](https://towardsdatascience.com/visualizing-in-app-user-journey-using-sankey-diagrams-in-python-8373a7bb2d22)"
      ]
    },
    {
      "cell_type": "code",
      "metadata": {
        "id": "ha-jj-1aDV65",
        "colab": {
          "base_uri": "https://localhost:8080/"
        },
        "outputId": "e43ade94-f3e3-4376-a250-94f9fdf3eb85"
      },
      "source": [
        "# Load data\n",
        "from google.colab import drive\n",
        "drive.mount('/content/drive')"
      ],
      "execution_count": null,
      "outputs": [
        {
          "output_type": "stream",
          "text": [
            "Drive already mounted at /content/drive; to attempt to forcibly remount, call drive.mount(\"/content/drive\", force_remount=True).\n"
          ],
          "name": "stdout"
        }
      ]
    },
    {
      "cell_type": "code",
      "metadata": {
        "colab": {
          "base_uri": "https://localhost:8080/"
        },
        "id": "bX9ssfs8L0wx",
        "outputId": "039efb3a-6cd5-4faf-c4a4-9eac094b265d"
      },
      "source": [
        "# !pip install chart_studio\n",
        "import pandas as pd\n",
        "import numpy as np\n",
        "# import chart_studio.plotly as cspy\n",
        "import plotly.graph_objects as go\n",
        "import plotly.express as px\n",
        "import seaborn as se\n",
        "from google.colab import files\n",
        "print(\"hello world\")"
      ],
      "execution_count": null,
      "outputs": [
        {
          "output_type": "stream",
          "text": [
            "hello world\n"
          ],
          "name": "stdout"
        }
      ]
    },
    {
      "cell_type": "code",
      "metadata": {
        "colab": {
          "base_uri": "https://localhost:8080/",
          "height": 206
        },
        "id": "luqqpA4fMni-",
        "outputId": "66f35ff7-9257-4d7a-8227-c9147cccac2f"
      },
      "source": [
        "all = pd.read_csv(\"/content/drive/MyDrive/OSU - BMI/Fareed Lab/Thesis/Data_Final/Sankey/sank_all_fin.csv\")\n",
        "all.head()"
      ],
      "execution_count": null,
      "outputs": [
        {
          "output_type": "execute_result",
          "data": {
            "text/html": [
              "<div>\n",
              "<style scoped>\n",
              "    .dataframe tbody tr th:only-of-type {\n",
              "        vertical-align: middle;\n",
              "    }\n",
              "\n",
              "    .dataframe tbody tr th {\n",
              "        vertical-align: top;\n",
              "    }\n",
              "\n",
              "    .dataframe thead th {\n",
              "        text-align: right;\n",
              "    }\n",
              "</style>\n",
              "<table border=\"1\" class=\"dataframe\">\n",
              "  <thead>\n",
              "    <tr style=\"text-align: right;\">\n",
              "      <th></th>\n",
              "      <th>pat_epi</th>\n",
              "      <th>clus_all_id</th>\n",
              "      <th>clus_all</th>\n",
              "      <th>tri</th>\n",
              "    </tr>\n",
              "  </thead>\n",
              "  <tbody>\n",
              "    <tr>\n",
              "      <th>0</th>\n",
              "      <td>1.1</td>\n",
              "      <td>1.0</td>\n",
              "      <td>Resulters</td>\n",
              "      <td>1</td>\n",
              "    </tr>\n",
              "    <tr>\n",
              "      <th>1</th>\n",
              "      <td>3.1</td>\n",
              "      <td>2.0</td>\n",
              "      <td>Result Messagers</td>\n",
              "      <td>1</td>\n",
              "    </tr>\n",
              "    <tr>\n",
              "      <th>2</th>\n",
              "      <td>4.2</td>\n",
              "      <td>3.0</td>\n",
              "      <td>Average Users</td>\n",
              "      <td>1</td>\n",
              "    </tr>\n",
              "    <tr>\n",
              "      <th>3</th>\n",
              "      <td>5.1</td>\n",
              "      <td>4.0</td>\n",
              "      <td>Average Users</td>\n",
              "      <td>1</td>\n",
              "    </tr>\n",
              "    <tr>\n",
              "      <th>4</th>\n",
              "      <td>5.2</td>\n",
              "      <td>5.0</td>\n",
              "      <td>Average Users</td>\n",
              "      <td>1</td>\n",
              "    </tr>\n",
              "  </tbody>\n",
              "</table>\n",
              "</div>"
            ],
            "text/plain": [
              "   pat_epi  clus_all_id          clus_all  tri\n",
              "0      1.1          1.0         Resulters    1\n",
              "1      3.1          2.0  Result Messagers    1\n",
              "2      4.2          3.0     Average Users    1\n",
              "3      5.1          4.0     Average Users    1\n",
              "4      5.2          5.0     Average Users    1"
            ]
          },
          "metadata": {
            "tags": []
          },
          "execution_count": 289
        }
      ]
    },
    {
      "cell_type": "code",
      "metadata": {
        "colab": {
          "base_uri": "https://localhost:8080/",
          "height": 206
        },
        "id": "dub0G2Hw9cSI",
        "outputId": "164d0dd7-b23a-4740-a5ad-30ffc648eeac"
      },
      "source": [
        "# Based on the tri, we can compute the rank of each cluster at the pat_epi level:\n",
        "\n",
        "# a) Sort ascendingly per pat_epi and tri\n",
        "\n",
        "all.sort_values(['pat_epi', 'tri'],\n",
        "                 ascending=[True, True], inplace=True)\n",
        "all.head()"
      ],
      "execution_count": null,
      "outputs": [
        {
          "output_type": "execute_result",
          "data": {
            "text/html": [
              "<div>\n",
              "<style scoped>\n",
              "    .dataframe tbody tr th:only-of-type {\n",
              "        vertical-align: middle;\n",
              "    }\n",
              "\n",
              "    .dataframe tbody tr th {\n",
              "        vertical-align: top;\n",
              "    }\n",
              "\n",
              "    .dataframe thead th {\n",
              "        text-align: right;\n",
              "    }\n",
              "</style>\n",
              "<table border=\"1\" class=\"dataframe\">\n",
              "  <thead>\n",
              "    <tr style=\"text-align: right;\">\n",
              "      <th></th>\n",
              "      <th>pat_epi</th>\n",
              "      <th>clus_all_id</th>\n",
              "      <th>clus_all</th>\n",
              "      <th>tri</th>\n",
              "    </tr>\n",
              "  </thead>\n",
              "  <tbody>\n",
              "    <tr>\n",
              "      <th>0</th>\n",
              "      <td>1.1</td>\n",
              "      <td>1.0</td>\n",
              "      <td>Resulters</td>\n",
              "      <td>1</td>\n",
              "    </tr>\n",
              "    <tr>\n",
              "      <th>10206</th>\n",
              "      <td>1.1</td>\n",
              "      <td>1.0</td>\n",
              "      <td>Result Messagers</td>\n",
              "      <td>2</td>\n",
              "    </tr>\n",
              "    <tr>\n",
              "      <th>20412</th>\n",
              "      <td>1.1</td>\n",
              "      <td>1.0</td>\n",
              "      <td>Average Users</td>\n",
              "      <td>3</td>\n",
              "    </tr>\n",
              "    <tr>\n",
              "      <th>30618</th>\n",
              "      <td>1.1</td>\n",
              "      <td>1.0</td>\n",
              "      <td>Average Users</td>\n",
              "      <td>4</td>\n",
              "    </tr>\n",
              "    <tr>\n",
              "      <th>1</th>\n",
              "      <td>3.1</td>\n",
              "      <td>2.0</td>\n",
              "      <td>Result Messagers</td>\n",
              "      <td>1</td>\n",
              "    </tr>\n",
              "  </tbody>\n",
              "</table>\n",
              "</div>"
            ],
            "text/plain": [
              "       pat_epi  clus_all_id          clus_all  tri\n",
              "0          1.1          1.0         Resulters    1\n",
              "10206      1.1          1.0  Result Messagers    2\n",
              "20412      1.1          1.0     Average Users    3\n",
              "30618      1.1          1.0     Average Users    4\n",
              "1          3.1          2.0  Result Messagers    1"
            ]
          },
          "metadata": {
            "tags": []
          },
          "execution_count": 290
        }
      ]
    },
    {
      "cell_type": "code",
      "metadata": {
        "id": "NVSakPpHzoWs",
        "colab": {
          "base_uri": "https://localhost:8080/",
          "height": 175
        },
        "outputId": "8783ab85-724e-4ddd-d701-24d3ea33783a"
      },
      "source": [
        "all=all[all.tri!=4]\n",
        "all.head(4)"
      ],
      "execution_count": null,
      "outputs": [
        {
          "output_type": "execute_result",
          "data": {
            "text/html": [
              "<div>\n",
              "<style scoped>\n",
              "    .dataframe tbody tr th:only-of-type {\n",
              "        vertical-align: middle;\n",
              "    }\n",
              "\n",
              "    .dataframe tbody tr th {\n",
              "        vertical-align: top;\n",
              "    }\n",
              "\n",
              "    .dataframe thead th {\n",
              "        text-align: right;\n",
              "    }\n",
              "</style>\n",
              "<table border=\"1\" class=\"dataframe\">\n",
              "  <thead>\n",
              "    <tr style=\"text-align: right;\">\n",
              "      <th></th>\n",
              "      <th>pat_epi</th>\n",
              "      <th>clus_all_id</th>\n",
              "      <th>clus_all</th>\n",
              "      <th>tri</th>\n",
              "    </tr>\n",
              "  </thead>\n",
              "  <tbody>\n",
              "    <tr>\n",
              "      <th>0</th>\n",
              "      <td>1.1</td>\n",
              "      <td>1.0</td>\n",
              "      <td>Resulters</td>\n",
              "      <td>1</td>\n",
              "    </tr>\n",
              "    <tr>\n",
              "      <th>10206</th>\n",
              "      <td>1.1</td>\n",
              "      <td>1.0</td>\n",
              "      <td>Result Messagers</td>\n",
              "      <td>2</td>\n",
              "    </tr>\n",
              "    <tr>\n",
              "      <th>20412</th>\n",
              "      <td>1.1</td>\n",
              "      <td>1.0</td>\n",
              "      <td>Average Users</td>\n",
              "      <td>3</td>\n",
              "    </tr>\n",
              "    <tr>\n",
              "      <th>1</th>\n",
              "      <td>3.1</td>\n",
              "      <td>2.0</td>\n",
              "      <td>Result Messagers</td>\n",
              "      <td>1</td>\n",
              "    </tr>\n",
              "  </tbody>\n",
              "</table>\n",
              "</div>"
            ],
            "text/plain": [
              "       pat_epi  clus_all_id          clus_all  tri\n",
              "0          1.1          1.0         Resulters    1\n",
              "10206      1.1          1.0  Result Messagers    2\n",
              "20412      1.1          1.0     Average Users    3\n",
              "1          3.1          2.0  Result Messagers    1"
            ]
          },
          "metadata": {
            "tags": []
          },
          "execution_count": 291
        }
      ]
    },
    {
      "cell_type": "code",
      "metadata": {
        "colab": {
          "base_uri": "https://localhost:8080/",
          "height": 206
        },
        "id": "l66iTmwDOzEi",
        "outputId": "0493e420-51cc-4e65-c61c-1c4f70037437"
      },
      "source": [
        "# # b) Define a ranking function based on tri, using the method = 'first' param to ensure no clusters have the same rank\n",
        "\n",
        "# def rank(x): return x['tri'].rank(method='first').astype(int)\n",
        "\n",
        "# f) Group by user_id \n",
        "grouped = all.groupby('pat_epi')\n",
        "\n",
        "# # c) Apply the ranking function to the all DF into a new \"rank_clus\" column\n",
        "# all[\"rank_clus\"] = grouped.apply(rank).reset_index(0, drop=True)\n",
        "\n",
        "# d) The shift function allows to access the next row's data. Here, we'll want the cluster name\n",
        "def get_next_clus(x): return x['clus_all'].shift(-1)\n",
        "\n",
        "# e) Apply the function into a new \"next_clus\" column\n",
        "all[\"next_clus\"] = grouped.apply(\n",
        "     lambda x: get_next_clus(x)).reset_index(0, drop=True)\n",
        "\n",
        "# f) Regroup by user_id \n",
        "grouped = all.groupby('pat_epi')\n",
        "all.head()"
      ],
      "execution_count": null,
      "outputs": [
        {
          "output_type": "execute_result",
          "data": {
            "text/html": [
              "<div>\n",
              "<style scoped>\n",
              "    .dataframe tbody tr th:only-of-type {\n",
              "        vertical-align: middle;\n",
              "    }\n",
              "\n",
              "    .dataframe tbody tr th {\n",
              "        vertical-align: top;\n",
              "    }\n",
              "\n",
              "    .dataframe thead th {\n",
              "        text-align: right;\n",
              "    }\n",
              "</style>\n",
              "<table border=\"1\" class=\"dataframe\">\n",
              "  <thead>\n",
              "    <tr style=\"text-align: right;\">\n",
              "      <th></th>\n",
              "      <th>pat_epi</th>\n",
              "      <th>clus_all_id</th>\n",
              "      <th>clus_all</th>\n",
              "      <th>tri</th>\n",
              "      <th>next_clus</th>\n",
              "    </tr>\n",
              "  </thead>\n",
              "  <tbody>\n",
              "    <tr>\n",
              "      <th>0</th>\n",
              "      <td>1.1</td>\n",
              "      <td>1.0</td>\n",
              "      <td>Resulters</td>\n",
              "      <td>1</td>\n",
              "      <td>Result Messagers</td>\n",
              "    </tr>\n",
              "    <tr>\n",
              "      <th>10206</th>\n",
              "      <td>1.1</td>\n",
              "      <td>1.0</td>\n",
              "      <td>Result Messagers</td>\n",
              "      <td>2</td>\n",
              "      <td>Average Users</td>\n",
              "    </tr>\n",
              "    <tr>\n",
              "      <th>20412</th>\n",
              "      <td>1.1</td>\n",
              "      <td>1.0</td>\n",
              "      <td>Average Users</td>\n",
              "      <td>3</td>\n",
              "      <td>NaN</td>\n",
              "    </tr>\n",
              "    <tr>\n",
              "      <th>1</th>\n",
              "      <td>3.1</td>\n",
              "      <td>2.0</td>\n",
              "      <td>Result Messagers</td>\n",
              "      <td>1</td>\n",
              "      <td>Resulters</td>\n",
              "    </tr>\n",
              "    <tr>\n",
              "      <th>10207</th>\n",
              "      <td>3.1</td>\n",
              "      <td>2.0</td>\n",
              "      <td>Resulters</td>\n",
              "      <td>2</td>\n",
              "      <td>Schedulers</td>\n",
              "    </tr>\n",
              "  </tbody>\n",
              "</table>\n",
              "</div>"
            ],
            "text/plain": [
              "       pat_epi  clus_all_id          clus_all  tri         next_clus\n",
              "0          1.1          1.0         Resulters    1  Result Messagers\n",
              "10206      1.1          1.0  Result Messagers    2     Average Users\n",
              "20412      1.1          1.0     Average Users    3               NaN\n",
              "1          3.1          2.0  Result Messagers    1         Resulters\n",
              "10207      3.1          2.0         Resulters    2        Schedulers"
            ]
          },
          "metadata": {
            "tags": []
          },
          "execution_count": 292
        }
      ]
    },
    {
      "cell_type": "markdown",
      "metadata": {
        "id": "M2_WkQIvGp6s"
      },
      "source": [
        "We attribute a unique color to each event, and name this dict nodes_dict."
      ]
    },
    {
      "cell_type": "code",
      "metadata": {
        "id": "droDtNTo7RJc"
      },
      "source": [
        "# Working on the nodes_dict\n",
        "\n",
        "all_clus = list(all.clus_all.unique())\n",
        "\n",
        "# Create a set of colors that you'd like to use in your plot.\n",
        "palette = ['50BE97', 'E4655C', 'FCC865',\n",
        "           'BFD6DE', '3E5066', '353A3E', 'E6E6E6']\n",
        "#  Here, I passed the colors as HEX, but we need to pass it as RGB. This loop will convert from HEX to RGB:\n",
        "for i, col in enumerate(palette):\n",
        "    palette[i] = tuple(int(col[i:i+2], 16) for i in (0, 2, 4))\n",
        "\n",
        "# Append a Seaborn complementary palette to your palette in case you did not provide enough colors to style every event\n",
        "# complementary_palette = se.color_palette(\"deep\", len(all_events) - len(palette))\n",
        "# if len(complementary_palette) > 0:\n",
        "#     palette.extend(complementary_palette)\n",
        "\n",
        "output = dict()\n",
        "output.update({'nodes_dict': dict()})\n",
        "\n",
        "i = 0\n",
        "for tri in all.tri.unique(): # For each tri of clus...\n",
        "    # Create a new key equal to the tri...\n",
        "    output['nodes_dict'].update(\n",
        "        {tri: dict()}\n",
        "    )\n",
        "    \n",
        "    # Look at all the events that were done at this step of the funnel...\n",
        "    all_clus_at_this_tri = all[all.tri ==\n",
        "                                   tri].clus_all.unique()\n",
        "    \n",
        "    # Read the colors for these events and store them in a list...\n",
        "    tri_palette = []\n",
        "    for clus in all_clus_at_this_tri:\n",
        "        tri_palette.append(palette[list(all_clus).index(clus)])\n",
        "    \n",
        "    # Keep trace of the events' names, colors and indices.\n",
        "    output['nodes_dict'][tri].update(\n",
        "        {\n",
        "            'sources': list(all_clus_at_this_tri),\n",
        "            'color': tri_palette,\n",
        "            'sources_index': list(range(i, i+len(all_clus_at_this_tri)))\n",
        "        }\n",
        "    )\n",
        "    # Finally, increment by the length of this rank's available clus to make sure next indices will not be chosen from existing ones\n",
        "    i += len(output['nodes_dict'][tri]['sources_index'])"
      ],
      "execution_count": null,
      "outputs": []
    },
    {
      "cell_type": "code",
      "metadata": {
        "colab": {
          "base_uri": "https://localhost:8080/",
          "height": 32
        },
        "id": "VR0sPo7mZIGJ",
        "outputId": "0954824f-aa79-4c59-b74c-569db8c84665"
      },
      "source": [
        "# Working on the links_dict\n",
        "\n",
        "output.update({'links_dict': dict()})\n",
        "\n",
        "# Group the DataFrame by pat_epi and tri\n",
        "grouped = all.groupby(['pat_epi', 'tri'])\n",
        "\n",
        "# Define a function to read the souces, targets, values clus_all to next_clus:\n",
        "def update_source_target(user):\n",
        "    try:\n",
        "        # user.name[0] is the user's pat_epi; user.name[1] is the tri\n",
        "        # 1st we retrieve the source and target's indices from nodes_dict\n",
        "        source_index = output['nodes_dict'][user.name[1]]['sources_index'][output['nodes_dict']\n",
        "                                                                           [user.name[1]]['sources'].index(user['clus_all'].values[0])]\n",
        "        target_index = output['nodes_dict'][user.name[1] + 1]['sources_index'][output['nodes_dict']\n",
        "                                                                               [user.name[1] + 1]['sources'].index(user['next_clus'].values[0])]\n",
        "\n",
        "         # If this source is already in links_dict...\n",
        "        if source_index in output['links_dict']:\n",
        "            # ...and if this target is already associated to this source...\n",
        "            if target_index in output['links_dict'][source_index]:\n",
        "                # ...then we increment the count of users with this source/target pair by 1\n",
        "                output['links_dict'][source_index][target_index]['unique_users'] += 1\n",
        "            # ...but if the target is not already associated to this source...\n",
        "            else:\n",
        "                # ...we create a new key for this target, for this source, and initiate it with 1 user and the time from source to target\n",
        "                output['links_dict'][source_index].update({target_index:\n",
        "                                                           dict(\n",
        "                                                               {'unique_users': 1}\n",
        "                                                            )\n",
        "                                                           })\n",
        "        # ...but if this source isn't already available in the links_dict, we create its key and the key of this source's target, and we initiate it with 1 user and the time from source to target\n",
        "        else:\n",
        "            output['links_dict'].update({source_index: dict({target_index: dict(\n",
        "                {'unique_users': 1})})})\n",
        "    except Exception as e:\n",
        "        pass\n",
        "\n",
        "# Apply the function to your grouped Pandas object:\n",
        "grouped.apply(lambda user: update_source_target(user)) \n",
        "\n"
      ],
      "execution_count": null,
      "outputs": [
        {
          "output_type": "execute_result",
          "data": {
            "text/html": [
              "<div>\n",
              "<style scoped>\n",
              "    .dataframe tbody tr th:only-of-type {\n",
              "        vertical-align: middle;\n",
              "    }\n",
              "\n",
              "    .dataframe tbody tr th {\n",
              "        vertical-align: top;\n",
              "    }\n",
              "\n",
              "    .dataframe thead th {\n",
              "        text-align: right;\n",
              "    }\n",
              "</style>\n",
              "<table border=\"1\" class=\"dataframe\">\n",
              "  <thead>\n",
              "    <tr style=\"text-align: right;\">\n",
              "      <th></th>\n",
              "    </tr>\n",
              "  </thead>\n",
              "  <tbody>\n",
              "  </tbody>\n",
              "</table>\n",
              "</div>"
            ],
            "text/plain": [
              "Empty DataFrame\n",
              "Columns: []\n",
              "Index: []"
            ]
          },
          "metadata": {
            "tags": []
          },
          "execution_count": 294
        }
      ]
    },
    {
      "cell_type": "code",
      "metadata": {
        "colab": {
          "base_uri": "https://localhost:8080/",
          "height": 206
        },
        "id": "eSNPeIbUus7Y",
        "outputId": "fcfe6b47-b863-4d07-9b03-57ca69c1840c"
      },
      "source": [
        "all.head()"
      ],
      "execution_count": null,
      "outputs": [
        {
          "output_type": "execute_result",
          "data": {
            "text/html": [
              "<div>\n",
              "<style scoped>\n",
              "    .dataframe tbody tr th:only-of-type {\n",
              "        vertical-align: middle;\n",
              "    }\n",
              "\n",
              "    .dataframe tbody tr th {\n",
              "        vertical-align: top;\n",
              "    }\n",
              "\n",
              "    .dataframe thead th {\n",
              "        text-align: right;\n",
              "    }\n",
              "</style>\n",
              "<table border=\"1\" class=\"dataframe\">\n",
              "  <thead>\n",
              "    <tr style=\"text-align: right;\">\n",
              "      <th></th>\n",
              "      <th>pat_epi</th>\n",
              "      <th>clus_all_id</th>\n",
              "      <th>clus_all</th>\n",
              "      <th>tri</th>\n",
              "      <th>next_clus</th>\n",
              "    </tr>\n",
              "  </thead>\n",
              "  <tbody>\n",
              "    <tr>\n",
              "      <th>0</th>\n",
              "      <td>1.1</td>\n",
              "      <td>1.0</td>\n",
              "      <td>Resulters</td>\n",
              "      <td>1</td>\n",
              "      <td>Result Messagers</td>\n",
              "    </tr>\n",
              "    <tr>\n",
              "      <th>10206</th>\n",
              "      <td>1.1</td>\n",
              "      <td>1.0</td>\n",
              "      <td>Result Messagers</td>\n",
              "      <td>2</td>\n",
              "      <td>Average Users</td>\n",
              "    </tr>\n",
              "    <tr>\n",
              "      <th>20412</th>\n",
              "      <td>1.1</td>\n",
              "      <td>1.0</td>\n",
              "      <td>Average Users</td>\n",
              "      <td>3</td>\n",
              "      <td>NaN</td>\n",
              "    </tr>\n",
              "    <tr>\n",
              "      <th>1</th>\n",
              "      <td>3.1</td>\n",
              "      <td>2.0</td>\n",
              "      <td>Result Messagers</td>\n",
              "      <td>1</td>\n",
              "      <td>Resulters</td>\n",
              "    </tr>\n",
              "    <tr>\n",
              "      <th>10207</th>\n",
              "      <td>3.1</td>\n",
              "      <td>2.0</td>\n",
              "      <td>Resulters</td>\n",
              "      <td>2</td>\n",
              "      <td>Schedulers</td>\n",
              "    </tr>\n",
              "  </tbody>\n",
              "</table>\n",
              "</div>"
            ],
            "text/plain": [
              "       pat_epi  clus_all_id          clus_all  tri         next_clus\n",
              "0          1.1          1.0         Resulters    1  Result Messagers\n",
              "10206      1.1          1.0  Result Messagers    2     Average Users\n",
              "20412      1.1          1.0     Average Users    3               NaN\n",
              "1          3.1          2.0  Result Messagers    1         Resulters\n",
              "10207      3.1          2.0         Resulters    2        Schedulers"
            ]
          },
          "metadata": {
            "tags": []
          },
          "execution_count": 295
        }
      ]
    },
    {
      "cell_type": "code",
      "metadata": {
        "colab": {
          "base_uri": "https://localhost:8080/",
          "height": 614
        },
        "id": "gd38hYbVyZ-a",
        "outputId": "a8d7a694-099f-4496-ca8c-7780066b6e97"
      },
      "source": [
        "all.groupby(['clus_all','tri']).count()"
      ],
      "execution_count": null,
      "outputs": [
        {
          "output_type": "execute_result",
          "data": {
            "text/html": [
              "<div>\n",
              "<style scoped>\n",
              "    .dataframe tbody tr th:only-of-type {\n",
              "        vertical-align: middle;\n",
              "    }\n",
              "\n",
              "    .dataframe tbody tr th {\n",
              "        vertical-align: top;\n",
              "    }\n",
              "\n",
              "    .dataframe thead th {\n",
              "        text-align: right;\n",
              "    }\n",
              "</style>\n",
              "<table border=\"1\" class=\"dataframe\">\n",
              "  <thead>\n",
              "    <tr style=\"text-align: right;\">\n",
              "      <th></th>\n",
              "      <th></th>\n",
              "      <th>pat_epi</th>\n",
              "      <th>clus_all_id</th>\n",
              "      <th>next_clus</th>\n",
              "    </tr>\n",
              "    <tr>\n",
              "      <th>clus_all</th>\n",
              "      <th>tri</th>\n",
              "      <th></th>\n",
              "      <th></th>\n",
              "      <th></th>\n",
              "    </tr>\n",
              "  </thead>\n",
              "  <tbody>\n",
              "    <tr>\n",
              "      <th rowspan=\"2\" valign=\"top\">Average Billers</th>\n",
              "      <th>2</th>\n",
              "      <td>2665</td>\n",
              "      <td>2665</td>\n",
              "      <td>2665</td>\n",
              "    </tr>\n",
              "    <tr>\n",
              "      <th>3</th>\n",
              "      <td>1532</td>\n",
              "      <td>1532</td>\n",
              "      <td>0</td>\n",
              "    </tr>\n",
              "    <tr>\n",
              "      <th rowspan=\"2\" valign=\"top\">Average Users</th>\n",
              "      <th>1</th>\n",
              "      <td>3342</td>\n",
              "      <td>3342</td>\n",
              "      <td>3342</td>\n",
              "    </tr>\n",
              "    <tr>\n",
              "      <th>3</th>\n",
              "      <td>2593</td>\n",
              "      <td>2593</td>\n",
              "      <td>0</td>\n",
              "    </tr>\n",
              "    <tr>\n",
              "      <th rowspan=\"3\" valign=\"top\">Non-Users</th>\n",
              "      <th>1</th>\n",
              "      <td>98</td>\n",
              "      <td>0</td>\n",
              "      <td>98</td>\n",
              "    </tr>\n",
              "    <tr>\n",
              "      <th>2</th>\n",
              "      <td>27</td>\n",
              "      <td>0</td>\n",
              "      <td>27</td>\n",
              "    </tr>\n",
              "    <tr>\n",
              "      <th>3</th>\n",
              "      <td>59</td>\n",
              "      <td>0</td>\n",
              "      <td>0</td>\n",
              "    </tr>\n",
              "    <tr>\n",
              "      <th>Pure Resulters</th>\n",
              "      <th>1</th>\n",
              "      <td>462</td>\n",
              "      <td>462</td>\n",
              "      <td>462</td>\n",
              "    </tr>\n",
              "    <tr>\n",
              "      <th rowspan=\"3\" valign=\"top\">Result Messagers</th>\n",
              "      <th>1</th>\n",
              "      <td>1781</td>\n",
              "      <td>1781</td>\n",
              "      <td>1781</td>\n",
              "    </tr>\n",
              "    <tr>\n",
              "      <th>2</th>\n",
              "      <td>3044</td>\n",
              "      <td>3044</td>\n",
              "      <td>3044</td>\n",
              "    </tr>\n",
              "    <tr>\n",
              "      <th>3</th>\n",
              "      <td>2440</td>\n",
              "      <td>2440</td>\n",
              "      <td>0</td>\n",
              "    </tr>\n",
              "    <tr>\n",
              "      <th rowspan=\"3\" valign=\"top\">Resulters</th>\n",
              "      <th>1</th>\n",
              "      <td>2554</td>\n",
              "      <td>2554</td>\n",
              "      <td>2554</td>\n",
              "    </tr>\n",
              "    <tr>\n",
              "      <th>2</th>\n",
              "      <td>1804</td>\n",
              "      <td>1804</td>\n",
              "      <td>1804</td>\n",
              "    </tr>\n",
              "    <tr>\n",
              "      <th>3</th>\n",
              "      <td>515</td>\n",
              "      <td>515</td>\n",
              "      <td>0</td>\n",
              "    </tr>\n",
              "    <tr>\n",
              "      <th rowspan=\"3\" valign=\"top\">Schedulers</th>\n",
              "      <th>1</th>\n",
              "      <td>1969</td>\n",
              "      <td>1969</td>\n",
              "      <td>1969</td>\n",
              "    </tr>\n",
              "    <tr>\n",
              "      <th>2</th>\n",
              "      <td>2666</td>\n",
              "      <td>2666</td>\n",
              "      <td>2666</td>\n",
              "    </tr>\n",
              "    <tr>\n",
              "      <th>3</th>\n",
              "      <td>3067</td>\n",
              "      <td>3067</td>\n",
              "      <td>0</td>\n",
              "    </tr>\n",
              "  </tbody>\n",
              "</table>\n",
              "</div>"
            ],
            "text/plain": [
              "                      pat_epi  clus_all_id  next_clus\n",
              "clus_all         tri                                 \n",
              "Average Billers  2       2665         2665       2665\n",
              "                 3       1532         1532          0\n",
              "Average Users    1       3342         3342       3342\n",
              "                 3       2593         2593          0\n",
              "Non-Users        1         98            0         98\n",
              "                 2         27            0         27\n",
              "                 3         59            0          0\n",
              "Pure Resulters   1        462          462        462\n",
              "Result Messagers 1       1781         1781       1781\n",
              "                 2       3044         3044       3044\n",
              "                 3       2440         2440          0\n",
              "Resulters        1       2554         2554       2554\n",
              "                 2       1804         1804       1804\n",
              "                 3        515          515          0\n",
              "Schedulers       1       1969         1969       1969\n",
              "                 2       2666         2666       2666\n",
              "                 3       3067         3067          0"
            ]
          },
          "metadata": {
            "tags": []
          },
          "execution_count": 296
        }
      ]
    },
    {
      "cell_type": "code",
      "metadata": {
        "colab": {
          "base_uri": "https://localhost:8080/"
        },
        "id": "Lgj9ztH_1XSf",
        "outputId": "38f3053a-31b7-453c-ea4a-35f680910694"
      },
      "source": [
        "labels"
      ],
      "execution_count": null,
      "outputs": [
        {
          "output_type": "execute_result",
          "data": {
            "text/plain": [
              "['Resulters',\n",
              " 'Result Messagers',\n",
              " 'Average Users',\n",
              " 'Schedulers',\n",
              " 'Pure Resulters',\n",
              " 'Non-Users',\n",
              " 'Result Messagers',\n",
              " 'Resulters',\n",
              " 'Average Billers',\n",
              " 'Schedulers',\n",
              " 'Non-Users',\n",
              " 'Average Users',\n",
              " 'Schedulers',\n",
              " 'Resulters',\n",
              " 'Result Messagers',\n",
              " 'Average Billers',\n",
              " 'Non-Users']"
            ]
          },
          "metadata": {
            "tags": []
          },
          "execution_count": 297
        }
      ]
    },
    {
      "cell_type": "code",
      "metadata": {
        "id": "nG1uoZ5Jebzs"
      },
      "source": [
        "targets = []\n",
        "sources = []\n",
        "values = []\n",
        "\n",
        "for source_key, source_value in output['links_dict'].items():\n",
        "    for target_key, target_value in output['links_dict'][source_key].items():\n",
        "        sources.append(source_key)\n",
        "        targets.append(target_key)\n",
        "        values.append(target_value['unique_users'])\n",
        "        \n",
        "labels = []\n",
        "colors = []\n",
        "\n",
        "for key, value in output['nodes_dict'].items():\n",
        "    labels = labels + list(output['nodes_dict'][key]['sources']) \n",
        "    colors = colors + list(output['nodes_dict'][key]['color'])\n",
        "for idx, color in enumerate(colors):\n",
        "    colors[idx] = \"rgb\" + str(color) + \"\"\n"
      ],
      "execution_count": null,
      "outputs": []
    },
    {
      "cell_type": "code",
      "metadata": {
        "colab": {
          "base_uri": "https://localhost:8080/"
        },
        "id": "SQsSKxvNGEpE",
        "outputId": "5b8425ce-ad9b-465e-f02c-e79c3e9923be"
      },
      "source": [
        "labels"
      ],
      "execution_count": null,
      "outputs": [
        {
          "output_type": "execute_result",
          "data": {
            "text/plain": [
              "['Resulters',\n",
              " 'Result Messagers',\n",
              " 'Average Users',\n",
              " 'Schedulers',\n",
              " 'Pure Resulters',\n",
              " 'Non-Users',\n",
              " 'Result Messagers',\n",
              " 'Resulters',\n",
              " 'Average Billers',\n",
              " 'Schedulers',\n",
              " 'Non-Users',\n",
              " 'Average Users',\n",
              " 'Schedulers',\n",
              " 'Resulters',\n",
              " 'Result Messagers',\n",
              " 'Average Billers',\n",
              " 'Non-Users']"
            ]
          },
          "metadata": {
            "tags": []
          },
          "execution_count": 299
        }
      ]
    },
    {
      "cell_type": "code",
      "metadata": {
        "id": "bUWsnQU3yMRa"
      },
      "source": [
        "cc=all.groupby(['clus_all','tri']).count()\n",
        "cc=cc.reset_index()\n",
        "# cc\n",
        "cc=cc.sort_values(['tri'])\n",
        "cc=cc.iloc[[4,0,2,1,5,3,7,6,8,10,9,13,16,14,12,15,11],:]#4,0,1,2,5,3,8,7,9,6,10,15,11,14,13,16,12,18,19,17,21,20],:]\n",
        "a=np.char.array(cc['clus_all'].values)\n",
        "b=np.char.array(cc['tri'].values)\n",
        "c=np.char.array(cc['pat_epi'].values)\n",
        "labels=(a + b' : ' + c).astype(str)\n",
        "# cc['clus_all']+cc['tri']+cc['pat_epi']\n",
        "# np.array(cc[['clus_all','tri']]).to_list()"
      ],
      "execution_count": null,
      "outputs": []
    },
    {
      "cell_type": "code",
      "metadata": {
        "colab": {
          "base_uri": "https://localhost:8080/",
          "height": 583
        },
        "id": "XD8UUsVY6QpE",
        "outputId": "8c6896de-a5c9-45a3-ce40-6e3d94b445a4"
      },
      "source": [
        "cc.reset_index()"
      ],
      "execution_count": null,
      "outputs": [
        {
          "output_type": "execute_result",
          "data": {
            "text/html": [
              "<div>\n",
              "<style scoped>\n",
              "    .dataframe tbody tr th:only-of-type {\n",
              "        vertical-align: middle;\n",
              "    }\n",
              "\n",
              "    .dataframe tbody tr th {\n",
              "        vertical-align: top;\n",
              "    }\n",
              "\n",
              "    .dataframe thead th {\n",
              "        text-align: right;\n",
              "    }\n",
              "</style>\n",
              "<table border=\"1\" class=\"dataframe\">\n",
              "  <thead>\n",
              "    <tr style=\"text-align: right;\">\n",
              "      <th></th>\n",
              "      <th>index</th>\n",
              "      <th>clus_all</th>\n",
              "      <th>tri</th>\n",
              "      <th>pat_epi</th>\n",
              "      <th>clus_all_id</th>\n",
              "      <th>next_clus</th>\n",
              "    </tr>\n",
              "  </thead>\n",
              "  <tbody>\n",
              "    <tr>\n",
              "      <th>0</th>\n",
              "      <td>11</td>\n",
              "      <td>Resulters</td>\n",
              "      <td>1</td>\n",
              "      <td>2554</td>\n",
              "      <td>2554</td>\n",
              "      <td>2554</td>\n",
              "    </tr>\n",
              "    <tr>\n",
              "      <th>1</th>\n",
              "      <td>8</td>\n",
              "      <td>Result Messagers</td>\n",
              "      <td>1</td>\n",
              "      <td>1781</td>\n",
              "      <td>1781</td>\n",
              "      <td>1781</td>\n",
              "    </tr>\n",
              "    <tr>\n",
              "      <th>2</th>\n",
              "      <td>2</td>\n",
              "      <td>Average Users</td>\n",
              "      <td>1</td>\n",
              "      <td>3342</td>\n",
              "      <td>3342</td>\n",
              "      <td>3342</td>\n",
              "    </tr>\n",
              "    <tr>\n",
              "      <th>3</th>\n",
              "      <td>14</td>\n",
              "      <td>Schedulers</td>\n",
              "      <td>1</td>\n",
              "      <td>1969</td>\n",
              "      <td>1969</td>\n",
              "      <td>1969</td>\n",
              "    </tr>\n",
              "    <tr>\n",
              "      <th>4</th>\n",
              "      <td>7</td>\n",
              "      <td>Pure Resulters</td>\n",
              "      <td>1</td>\n",
              "      <td>462</td>\n",
              "      <td>462</td>\n",
              "      <td>462</td>\n",
              "    </tr>\n",
              "    <tr>\n",
              "      <th>5</th>\n",
              "      <td>4</td>\n",
              "      <td>Non-Users</td>\n",
              "      <td>1</td>\n",
              "      <td>98</td>\n",
              "      <td>0</td>\n",
              "      <td>98</td>\n",
              "    </tr>\n",
              "    <tr>\n",
              "      <th>6</th>\n",
              "      <td>9</td>\n",
              "      <td>Result Messagers</td>\n",
              "      <td>2</td>\n",
              "      <td>3044</td>\n",
              "      <td>3044</td>\n",
              "      <td>3044</td>\n",
              "    </tr>\n",
              "    <tr>\n",
              "      <th>7</th>\n",
              "      <td>12</td>\n",
              "      <td>Resulters</td>\n",
              "      <td>2</td>\n",
              "      <td>1804</td>\n",
              "      <td>1804</td>\n",
              "      <td>1804</td>\n",
              "    </tr>\n",
              "    <tr>\n",
              "      <th>8</th>\n",
              "      <td>0</td>\n",
              "      <td>Average Billers</td>\n",
              "      <td>2</td>\n",
              "      <td>2665</td>\n",
              "      <td>2665</td>\n",
              "      <td>2665</td>\n",
              "    </tr>\n",
              "    <tr>\n",
              "      <th>9</th>\n",
              "      <td>15</td>\n",
              "      <td>Schedulers</td>\n",
              "      <td>2</td>\n",
              "      <td>2666</td>\n",
              "      <td>2666</td>\n",
              "      <td>2666</td>\n",
              "    </tr>\n",
              "    <tr>\n",
              "      <th>10</th>\n",
              "      <td>5</td>\n",
              "      <td>Non-Users</td>\n",
              "      <td>2</td>\n",
              "      <td>27</td>\n",
              "      <td>0</td>\n",
              "      <td>27</td>\n",
              "    </tr>\n",
              "    <tr>\n",
              "      <th>11</th>\n",
              "      <td>3</td>\n",
              "      <td>Average Users</td>\n",
              "      <td>3</td>\n",
              "      <td>2593</td>\n",
              "      <td>2593</td>\n",
              "      <td>0</td>\n",
              "    </tr>\n",
              "    <tr>\n",
              "      <th>12</th>\n",
              "      <td>16</td>\n",
              "      <td>Schedulers</td>\n",
              "      <td>3</td>\n",
              "      <td>3067</td>\n",
              "      <td>3067</td>\n",
              "      <td>0</td>\n",
              "    </tr>\n",
              "    <tr>\n",
              "      <th>13</th>\n",
              "      <td>13</td>\n",
              "      <td>Resulters</td>\n",
              "      <td>3</td>\n",
              "      <td>515</td>\n",
              "      <td>515</td>\n",
              "      <td>0</td>\n",
              "    </tr>\n",
              "    <tr>\n",
              "      <th>14</th>\n",
              "      <td>10</td>\n",
              "      <td>Result Messagers</td>\n",
              "      <td>3</td>\n",
              "      <td>2440</td>\n",
              "      <td>2440</td>\n",
              "      <td>0</td>\n",
              "    </tr>\n",
              "    <tr>\n",
              "      <th>15</th>\n",
              "      <td>1</td>\n",
              "      <td>Average Billers</td>\n",
              "      <td>3</td>\n",
              "      <td>1532</td>\n",
              "      <td>1532</td>\n",
              "      <td>0</td>\n",
              "    </tr>\n",
              "    <tr>\n",
              "      <th>16</th>\n",
              "      <td>6</td>\n",
              "      <td>Non-Users</td>\n",
              "      <td>3</td>\n",
              "      <td>59</td>\n",
              "      <td>0</td>\n",
              "      <td>0</td>\n",
              "    </tr>\n",
              "  </tbody>\n",
              "</table>\n",
              "</div>"
            ],
            "text/plain": [
              "    index          clus_all  tri  pat_epi  clus_all_id  next_clus\n",
              "0      11         Resulters    1     2554         2554       2554\n",
              "1       8  Result Messagers    1     1781         1781       1781\n",
              "2       2     Average Users    1     3342         3342       3342\n",
              "3      14        Schedulers    1     1969         1969       1969\n",
              "4       7    Pure Resulters    1      462          462        462\n",
              "5       4         Non-Users    1       98            0         98\n",
              "6       9  Result Messagers    2     3044         3044       3044\n",
              "7      12         Resulters    2     1804         1804       1804\n",
              "8       0   Average Billers    2     2665         2665       2665\n",
              "9      15        Schedulers    2     2666         2666       2666\n",
              "10      5         Non-Users    2       27            0         27\n",
              "11      3     Average Users    3     2593         2593          0\n",
              "12     16        Schedulers    3     3067         3067          0\n",
              "13     13         Resulters    3      515          515          0\n",
              "14     10  Result Messagers    3     2440         2440          0\n",
              "15      1   Average Billers    3     1532         1532          0\n",
              "16      6         Non-Users    3       59            0          0"
            ]
          },
          "metadata": {
            "tags": []
          },
          "execution_count": 304
        }
      ]
    },
    {
      "cell_type": "code",
      "metadata": {
        "colab": {
          "base_uri": "https://localhost:8080/",
          "height": 542
        },
        "id": "V3GePETXeya7",
        "outputId": "844e96c7-1a48-4612-90be-2a5fd9309aa5"
      },
      "source": [
        "# label = [\"{} {}\".format(node1_name, node1_val), \"{} {}\".format(node2_name, node2_val) ...]\n",
        "fig = go.Figure(data=[go.Sankey(\n",
        "    node=dict(\n",
        "        thickness=20,  # default is 20\n",
        "        line=dict(color=\"black\", width=0.5),\n",
        "        label=labels,\n",
        "        color=colors\n",
        "    ),\n",
        "    link=dict(\n",
        "        source=sources,\n",
        "        target=targets,\n",
        "        value=values,\n",
        "        hovertemplate='%{value} unique pregnancy episodes went from %{source.label} to %{target.label}.<br />',\n",
        "    ))])\n",
        "\n",
        "fig.update_layout(autosize=True, title=dict(text=\"Movement of Clusters During Pregnancy Episode\", font_size=16), font=dict(size=12, family=\"Arial\"), plot_bgcolor='white')\n",
        "fig.show()\n"
      ],
      "execution_count": null,
      "outputs": [
        {
          "output_type": "display_data",
          "data": {
            "text/html": [
              "<html>\n",
              "<head><meta charset=\"utf-8\" /></head>\n",
              "<body>\n",
              "    <div>\n",
              "            <script src=\"https://cdnjs.cloudflare.com/ajax/libs/mathjax/2.7.5/MathJax.js?config=TeX-AMS-MML_SVG\"></script><script type=\"text/javascript\">if (window.MathJax) {MathJax.Hub.Config({SVG: {font: \"STIX-Web\"}});}</script>\n",
              "                <script type=\"text/javascript\">window.PlotlyConfig = {MathJaxConfig: 'local'};</script>\n",
              "        <script src=\"https://cdn.plot.ly/plotly-latest.min.js\"></script>    \n",
              "            <div id=\"effe0905-0095-4826-bade-47d3ccb1b4ba\" class=\"plotly-graph-div\" style=\"height:525px; width:100%;\"></div>\n",
              "            <script type=\"text/javascript\">\n",
              "                \n",
              "                    window.PLOTLYENV=window.PLOTLYENV || {};\n",
              "                    \n",
              "                if (document.getElementById(\"effe0905-0095-4826-bade-47d3ccb1b4ba\")) {\n",
              "                    Plotly.newPlot(\n",
              "                        'effe0905-0095-4826-bade-47d3ccb1b4ba',\n",
              "                        [{\"link\": {\"hovertemplate\": \"%{value} unique pregnancy episodes went from %{source.label} to %{target.label}.<br />\", \"source\": [0, 0, 0, 0, 0, 6, 6, 6, 6, 6, 6, 1, 1, 1, 1, 1, 7, 7, 7, 7, 7, 7, 2, 2, 2, 2, 2, 8, 8, 8, 8, 8, 8, 9, 9, 9, 9, 9, 9, 3, 3, 3, 3, 3, 10, 10, 10, 10, 10, 10, 4, 4, 4, 4, 4, 5, 5, 5, 5, 5], \"target\": [6, 8, 7, 9, 10, 11, 14, 15, 12, 13, 16, 7, 6, 9, 8, 10, 12, 13, 11, 14, 15, 16, 7, 8, 9, 6, 10, 11, 12, 15, 14, 13, 16, 11, 12, 14, 15, 13, 16, 9, 7, 8, 6, 10, 11, 16, 13, 14, 12, 15, 6, 7, 9, 8, 10, 6, 8, 7, 9, 10], \"value\": [609, 763, 735, 443, 4, 624, 1573, 339, 370, 118, 20, 263, 1249, 72, 195, 2, 233, 278, 705, 371, 203, 14, 487, 1215, 757, 875, 8, 737, 726, 787, 323, 78, 14, 517, 1737, 168, 201, 36, 7, 1332, 126, 355, 154, 2, 10, 4, 5, 5, 1, 2, 128, 172, 47, 109, 6, 29, 28, 21, 15, 5]}, \"node\": {\"color\": [\"rgb(80, 190, 151)\", \"rgb(228, 101, 92)\", \"rgb(252, 200, 101)\", \"rgb(191, 214, 222)\", \"rgb(230, 230, 230)\", \"rgb(53, 58, 62)\", \"rgb(228, 101, 92)\", \"rgb(80, 190, 151)\", \"rgb(62, 80, 102)\", \"rgb(191, 214, 222)\", \"rgb(53, 58, 62)\", \"rgb(252, 200, 101)\", \"rgb(191, 214, 222)\", \"rgb(80, 190, 151)\", \"rgb(228, 101, 92)\", \"rgb(62, 80, 102)\", \"rgb(53, 58, 62)\"], \"label\": [\"Resulters : 2554\", \"Result Messagers : 1781\", \"Average Users : 3342\", \"Schedulers : 1969\", \"Pure Resulters : 462\", \"Non-Users : 98\", \"Result Messagers : 3044\", \"Resulters : 1804\", \"Average Billers : 2665\", \"Schedulers : 2666\", \"Non-Users : 27\", \"Average Users : 2593\", \"Schedulers : 3067\", \"Resulters : 515\", \"Result Messagers : 2440\", \"Average Billers : 1532\", \"Non-Users : 59\"], \"line\": {\"color\": \"black\", \"width\": 0.5}, \"thickness\": 20}, \"type\": \"sankey\"}],\n",
              "                        {\"autosize\": true, \"font\": {\"family\": \"Arial\", \"size\": 12}, \"plot_bgcolor\": \"white\", \"template\": {\"data\": {\"bar\": [{\"error_x\": {\"color\": \"#2a3f5f\"}, \"error_y\": {\"color\": \"#2a3f5f\"}, \"marker\": {\"line\": {\"color\": \"#E5ECF6\", \"width\": 0.5}}, \"type\": \"bar\"}], \"barpolar\": [{\"marker\": {\"line\": {\"color\": \"#E5ECF6\", \"width\": 0.5}}, \"type\": \"barpolar\"}], \"carpet\": [{\"aaxis\": {\"endlinecolor\": \"#2a3f5f\", \"gridcolor\": \"white\", \"linecolor\": \"white\", \"minorgridcolor\": \"white\", \"startlinecolor\": \"#2a3f5f\"}, \"baxis\": {\"endlinecolor\": \"#2a3f5f\", \"gridcolor\": \"white\", \"linecolor\": \"white\", \"minorgridcolor\": \"white\", \"startlinecolor\": \"#2a3f5f\"}, \"type\": \"carpet\"}], \"choropleth\": [{\"colorbar\": {\"outlinewidth\": 0, \"ticks\": \"\"}, \"type\": \"choropleth\"}], \"contour\": [{\"colorbar\": {\"outlinewidth\": 0, \"ticks\": \"\"}, \"colorscale\": [[0.0, \"#0d0887\"], [0.1111111111111111, \"#46039f\"], [0.2222222222222222, \"#7201a8\"], [0.3333333333333333, \"#9c179e\"], [0.4444444444444444, \"#bd3786\"], [0.5555555555555556, \"#d8576b\"], [0.6666666666666666, \"#ed7953\"], [0.7777777777777778, \"#fb9f3a\"], [0.8888888888888888, \"#fdca26\"], [1.0, \"#f0f921\"]], \"type\": \"contour\"}], \"contourcarpet\": [{\"colorbar\": {\"outlinewidth\": 0, \"ticks\": \"\"}, \"type\": \"contourcarpet\"}], \"heatmap\": [{\"colorbar\": {\"outlinewidth\": 0, \"ticks\": \"\"}, \"colorscale\": [[0.0, \"#0d0887\"], [0.1111111111111111, \"#46039f\"], [0.2222222222222222, \"#7201a8\"], [0.3333333333333333, \"#9c179e\"], [0.4444444444444444, \"#bd3786\"], [0.5555555555555556, \"#d8576b\"], [0.6666666666666666, \"#ed7953\"], [0.7777777777777778, \"#fb9f3a\"], [0.8888888888888888, \"#fdca26\"], [1.0, \"#f0f921\"]], \"type\": \"heatmap\"}], \"heatmapgl\": [{\"colorbar\": {\"outlinewidth\": 0, \"ticks\": \"\"}, \"colorscale\": [[0.0, \"#0d0887\"], [0.1111111111111111, \"#46039f\"], [0.2222222222222222, \"#7201a8\"], [0.3333333333333333, \"#9c179e\"], [0.4444444444444444, \"#bd3786\"], [0.5555555555555556, \"#d8576b\"], [0.6666666666666666, \"#ed7953\"], [0.7777777777777778, \"#fb9f3a\"], [0.8888888888888888, \"#fdca26\"], [1.0, \"#f0f921\"]], \"type\": \"heatmapgl\"}], \"histogram\": [{\"marker\": {\"colorbar\": {\"outlinewidth\": 0, \"ticks\": \"\"}}, \"type\": \"histogram\"}], \"histogram2d\": [{\"colorbar\": {\"outlinewidth\": 0, \"ticks\": \"\"}, \"colorscale\": [[0.0, \"#0d0887\"], [0.1111111111111111, \"#46039f\"], [0.2222222222222222, \"#7201a8\"], [0.3333333333333333, \"#9c179e\"], [0.4444444444444444, \"#bd3786\"], [0.5555555555555556, \"#d8576b\"], [0.6666666666666666, \"#ed7953\"], [0.7777777777777778, \"#fb9f3a\"], [0.8888888888888888, \"#fdca26\"], [1.0, \"#f0f921\"]], \"type\": \"histogram2d\"}], \"histogram2dcontour\": [{\"colorbar\": {\"outlinewidth\": 0, \"ticks\": \"\"}, \"colorscale\": [[0.0, \"#0d0887\"], [0.1111111111111111, \"#46039f\"], [0.2222222222222222, \"#7201a8\"], [0.3333333333333333, \"#9c179e\"], [0.4444444444444444, \"#bd3786\"], [0.5555555555555556, \"#d8576b\"], [0.6666666666666666, \"#ed7953\"], [0.7777777777777778, \"#fb9f3a\"], [0.8888888888888888, \"#fdca26\"], [1.0, \"#f0f921\"]], \"type\": \"histogram2dcontour\"}], \"mesh3d\": [{\"colorbar\": {\"outlinewidth\": 0, \"ticks\": \"\"}, \"type\": \"mesh3d\"}], \"parcoords\": [{\"line\": {\"colorbar\": {\"outlinewidth\": 0, \"ticks\": \"\"}}, \"type\": \"parcoords\"}], \"pie\": [{\"automargin\": true, \"type\": \"pie\"}], \"scatter\": [{\"marker\": {\"colorbar\": {\"outlinewidth\": 0, \"ticks\": \"\"}}, \"type\": \"scatter\"}], \"scatter3d\": [{\"line\": {\"colorbar\": {\"outlinewidth\": 0, \"ticks\": \"\"}}, \"marker\": {\"colorbar\": {\"outlinewidth\": 0, \"ticks\": \"\"}}, \"type\": \"scatter3d\"}], \"scattercarpet\": [{\"marker\": {\"colorbar\": {\"outlinewidth\": 0, \"ticks\": \"\"}}, \"type\": \"scattercarpet\"}], \"scattergeo\": [{\"marker\": {\"colorbar\": {\"outlinewidth\": 0, \"ticks\": \"\"}}, \"type\": \"scattergeo\"}], \"scattergl\": [{\"marker\": {\"colorbar\": {\"outlinewidth\": 0, \"ticks\": \"\"}}, \"type\": \"scattergl\"}], \"scattermapbox\": [{\"marker\": {\"colorbar\": {\"outlinewidth\": 0, \"ticks\": \"\"}}, \"type\": \"scattermapbox\"}], \"scatterpolar\": [{\"marker\": {\"colorbar\": {\"outlinewidth\": 0, \"ticks\": \"\"}}, \"type\": \"scatterpolar\"}], \"scatterpolargl\": [{\"marker\": {\"colorbar\": {\"outlinewidth\": 0, \"ticks\": \"\"}}, \"type\": \"scatterpolargl\"}], \"scatterternary\": [{\"marker\": {\"colorbar\": {\"outlinewidth\": 0, \"ticks\": \"\"}}, \"type\": \"scatterternary\"}], \"surface\": [{\"colorbar\": {\"outlinewidth\": 0, \"ticks\": \"\"}, \"colorscale\": [[0.0, \"#0d0887\"], [0.1111111111111111, \"#46039f\"], [0.2222222222222222, \"#7201a8\"], [0.3333333333333333, \"#9c179e\"], [0.4444444444444444, \"#bd3786\"], [0.5555555555555556, \"#d8576b\"], [0.6666666666666666, \"#ed7953\"], [0.7777777777777778, \"#fb9f3a\"], [0.8888888888888888, \"#fdca26\"], [1.0, \"#f0f921\"]], \"type\": \"surface\"}], \"table\": [{\"cells\": {\"fill\": {\"color\": \"#EBF0F8\"}, \"line\": {\"color\": \"white\"}}, \"header\": {\"fill\": {\"color\": \"#C8D4E3\"}, \"line\": {\"color\": \"white\"}}, \"type\": \"table\"}]}, \"layout\": {\"annotationdefaults\": {\"arrowcolor\": \"#2a3f5f\", \"arrowhead\": 0, \"arrowwidth\": 1}, \"coloraxis\": {\"colorbar\": {\"outlinewidth\": 0, \"ticks\": \"\"}}, \"colorscale\": {\"diverging\": [[0, \"#8e0152\"], [0.1, \"#c51b7d\"], [0.2, \"#de77ae\"], [0.3, \"#f1b6da\"], [0.4, \"#fde0ef\"], [0.5, \"#f7f7f7\"], [0.6, \"#e6f5d0\"], [0.7, \"#b8e186\"], [0.8, \"#7fbc41\"], [0.9, \"#4d9221\"], [1, \"#276419\"]], \"sequential\": [[0.0, \"#0d0887\"], [0.1111111111111111, \"#46039f\"], [0.2222222222222222, \"#7201a8\"], [0.3333333333333333, \"#9c179e\"], [0.4444444444444444, \"#bd3786\"], [0.5555555555555556, \"#d8576b\"], [0.6666666666666666, \"#ed7953\"], [0.7777777777777778, \"#fb9f3a\"], [0.8888888888888888, \"#fdca26\"], [1.0, \"#f0f921\"]], \"sequentialminus\": [[0.0, \"#0d0887\"], [0.1111111111111111, \"#46039f\"], [0.2222222222222222, \"#7201a8\"], [0.3333333333333333, \"#9c179e\"], [0.4444444444444444, \"#bd3786\"], [0.5555555555555556, \"#d8576b\"], [0.6666666666666666, \"#ed7953\"], [0.7777777777777778, \"#fb9f3a\"], [0.8888888888888888, \"#fdca26\"], [1.0, \"#f0f921\"]]}, \"colorway\": [\"#636efa\", \"#EF553B\", \"#00cc96\", \"#ab63fa\", \"#FFA15A\", \"#19d3f3\", \"#FF6692\", \"#B6E880\", \"#FF97FF\", \"#FECB52\"], \"font\": {\"color\": \"#2a3f5f\"}, \"geo\": {\"bgcolor\": \"white\", \"lakecolor\": \"white\", \"landcolor\": \"#E5ECF6\", \"showlakes\": true, \"showland\": true, \"subunitcolor\": \"white\"}, \"hoverlabel\": {\"align\": \"left\"}, \"hovermode\": \"closest\", \"mapbox\": {\"style\": \"light\"}, \"paper_bgcolor\": \"white\", \"plot_bgcolor\": \"#E5ECF6\", \"polar\": {\"angularaxis\": {\"gridcolor\": \"white\", \"linecolor\": \"white\", \"ticks\": \"\"}, \"bgcolor\": \"#E5ECF6\", \"radialaxis\": {\"gridcolor\": \"white\", \"linecolor\": \"white\", \"ticks\": \"\"}}, \"scene\": {\"xaxis\": {\"backgroundcolor\": \"#E5ECF6\", \"gridcolor\": \"white\", \"gridwidth\": 2, \"linecolor\": \"white\", \"showbackground\": true, \"ticks\": \"\", \"zerolinecolor\": \"white\"}, \"yaxis\": {\"backgroundcolor\": \"#E5ECF6\", \"gridcolor\": \"white\", \"gridwidth\": 2, \"linecolor\": \"white\", \"showbackground\": true, \"ticks\": \"\", \"zerolinecolor\": \"white\"}, \"zaxis\": {\"backgroundcolor\": \"#E5ECF6\", \"gridcolor\": \"white\", \"gridwidth\": 2, \"linecolor\": \"white\", \"showbackground\": true, \"ticks\": \"\", \"zerolinecolor\": \"white\"}}, \"shapedefaults\": {\"line\": {\"color\": \"#2a3f5f\"}}, \"ternary\": {\"aaxis\": {\"gridcolor\": \"white\", \"linecolor\": \"white\", \"ticks\": \"\"}, \"baxis\": {\"gridcolor\": \"white\", \"linecolor\": \"white\", \"ticks\": \"\"}, \"bgcolor\": \"#E5ECF6\", \"caxis\": {\"gridcolor\": \"white\", \"linecolor\": \"white\", \"ticks\": \"\"}}, \"title\": {\"x\": 0.05}, \"xaxis\": {\"automargin\": true, \"gridcolor\": \"white\", \"linecolor\": \"white\", \"ticks\": \"\", \"title\": {\"standoff\": 15}, \"zerolinecolor\": \"white\", \"zerolinewidth\": 2}, \"yaxis\": {\"automargin\": true, \"gridcolor\": \"white\", \"linecolor\": \"white\", \"ticks\": \"\", \"title\": {\"standoff\": 15}, \"zerolinecolor\": \"white\", \"zerolinewidth\": 2}}}, \"title\": {\"font\": {\"size\": 16}, \"text\": \"Movement of Clusters During Pregnancy Episode\"}},\n",
              "                        {\"responsive\": true}\n",
              "                    ).then(function(){\n",
              "                            \n",
              "var gd = document.getElementById('effe0905-0095-4826-bade-47d3ccb1b4ba');\n",
              "var x = new MutationObserver(function (mutations, observer) {{\n",
              "        var display = window.getComputedStyle(gd).display;\n",
              "        if (!display || display === 'none') {{\n",
              "            console.log([gd, 'removed!']);\n",
              "            Plotly.purge(gd);\n",
              "            observer.disconnect();\n",
              "        }}\n",
              "}});\n",
              "\n",
              "// Listen for the removal of the full notebook cells\n",
              "var notebookContainer = gd.closest('#notebook-container');\n",
              "if (notebookContainer) {{\n",
              "    x.observe(notebookContainer, {childList: true});\n",
              "}}\n",
              "\n",
              "// Listen for the clearing of the current output cell\n",
              "var outputEl = gd.closest('.output');\n",
              "if (outputEl) {{\n",
              "    x.observe(outputEl, {childList: true});\n",
              "}}\n",
              "\n",
              "                        })\n",
              "                };\n",
              "                \n",
              "            </script>\n",
              "        </div>\n",
              "</body>\n",
              "</html>"
            ]
          },
          "metadata": {
            "tags": []
          }
        }
      ]
    },
    {
      "cell_type": "code",
      "metadata": {
        "id": "MXCmkPK9ol1K"
      },
      "source": [
        ""
      ],
      "execution_count": null,
      "outputs": []
    }
  ]
}